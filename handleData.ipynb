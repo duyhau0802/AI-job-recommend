{
 "cells": [
  {
   "cell_type": "code",
   "execution_count": 1,
   "metadata": {},
   "outputs": [],
   "source": [
    "import pandas as pd\n",
    "import numpy as np\n",
    "from sklearn.feature_extraction.text import TfidfVectorizer\n",
    "from sklearn.metrics.pairwise import linear_kernel\n",
    "import pickle\n"
   ]
  },
  {
   "cell_type": "markdown",
   "metadata": {},
   "source": [
    "### Load and preprocess data "
   ]
  },
  {
   "cell_type": "code",
   "execution_count": 3,
   "metadata": {},
   "outputs": [],
   "source": [
    "def load_and_preprocess_data(csv_file, pickle_file):\n",
    "  \"\"\"\n",
    "  Loads a CSV file, cleans and preprocesses the data, and stores it in a pickle file.\n",
    "  Args:\n",
    "      csv_file (str): Path to the CSV file containing job data.\n",
    "      pickle_file (str): Path to the pickle file where preprocessed data will be stored.\n",
    "  Returns:\n",
    "      pandas.DataFrame: The preprocessed DataFrame containing job data.\n",
    "  \"\"\"\n",
    "\n",
    "  df = pd.read_csv(csv_file)\n",
    "  df = df.dropna()  # Remove rows with missing values (optional)\n",
    "  tdif = TfidfVectorizer(stop_words='english')\n",
    "  df['jobdescription'] = df['jobdescription'].fillna('')\n",
    "  tdif_matrix = tdif.fit_transform(df['jobdescription'])\n",
    "\n",
    "  with open(pickle_file, 'wb') as f:\n",
    "      data = {'df': df, 'tdif': tdif, 'tdif_matrix': tdif_matrix}\n",
    "      pickle.dump(data, f)\n",
    "\n",
    "  return df, tdif, tdif_matrix"
   ]
  },
  {
   "cell_type": "code",
   "execution_count": 11,
   "metadata": {},
   "outputs": [
    {
     "name": "stdout",
     "output_type": "stream",
     "text": [
      "Pickle file not found, loading and preprocessing data from CSV...\n"
     ]
    }
   ],
   "source": [
    "csv_file = './dataStore.csv'\n",
    "pickle_file = 'preprocessed_dataStore.pkl'\n",
    "\n",
    "try:\n",
    "  with open(pickle_file, 'rb') as f:\n",
    "    data = pickle.load(f)\n",
    "    df = data['df']\n",
    "    tdif = data['tdif']  # Load TF-IDF vectorizer if needed\n",
    "    tdif_matrix = data['tdif_matrix']  # Load TF-IDF matrix if needed\n",
    "    print(\"Loaded data from pickle file\")\n",
    "except FileNotFoundError:\n",
    "  print(\"Pickle file not found, loading and preprocessing data from CSV...\")\n",
    "  df, tdif, tdif_matrix = load_and_preprocess_data(csv_file, pickle_file)"
   ]
  },
  {
   "cell_type": "markdown",
   "metadata": {},
   "source": [
    "### Insert to database . job table"
   ]
  },
  {
   "cell_type": "code",
   "execution_count": null,
   "metadata": {},
   "outputs": [
    {
     "data": {
      "text/plain": [
       "'jobtitle, company, jobdescription, joblocation_address'"
      ]
     },
     "execution_count": 14,
     "metadata": {},
     "output_type": "execute_result"
    }
   ],
   "source": [
    "table_columns = \", \".join(df.columns.tolist())\n",
    "table_columns   "
   ]
  },
  {
   "cell_type": "code",
   "execution_count": 15,
   "metadata": {},
   "outputs": [
    {
     "data": {
      "text/plain": [
       "'INSERT INTO job (jobtitle, company, jobdescription, joblocation_address) VALUES (%s, %s, %s, ..., %s)'"
      ]
     },
     "execution_count": 15,
     "metadata": {},
     "output_type": "execute_result"
    }
   ],
   "source": [
    "sql_insert = f\"\"\"INSERT INTO job ({table_columns}) VALUES (%s, %s, %s, ..., %s)\"\"\"\n",
    "sql_insert"
   ]
  },
  {
   "cell_type": "code",
   "execution_count": 20,
   "metadata": {},
   "outputs": [
    {
     "name": "stdout",
     "output_type": "stream",
     "text": [
      "Company name at row 1: Digital Intelligence Systems, LLC\n"
     ]
    }
   ],
   "source": [
    "# Accessing data using label (assuming \"company\" is the column name)\n",
    "# company_name = df.loc[0, \"company\"]\n",
    "\n",
    "# Accessing data using integer position (assuming \"company\" is at index 1)\n",
    "company_name = df.iloc[0, 1]  # This would work if \"company\" is the second column\n",
    "\n",
    "print(f\"Company name at row 1: {company_name}\")"
   ]
  },
  {
   "cell_type": "markdown",
   "metadata": {},
   "source": [
    "### Check recommend"
   ]
  },
  {
   "cell_type": "markdown",
   "metadata": {},
   "source": [
    "Dung tdif matrix và linear kernel để tính ma trận độ tương đồng cosine"
   ]
  },
  {
   "cell_type": "code",
   "execution_count": 12,
   "metadata": {},
   "outputs": [
    {
     "data": {
      "text/plain": [
       "(127, 1149)"
      ]
     },
     "execution_count": 12,
     "metadata": {},
     "output_type": "execute_result"
    }
   ],
   "source": [
    "tdif_matrix.shape"
   ]
  },
  {
   "cell_type": "code",
   "execution_count": 13,
   "metadata": {},
   "outputs": [
    {
     "data": {
      "text/plain": [
       "numpy.ndarray"
      ]
     },
     "execution_count": 13,
     "metadata": {},
     "output_type": "execute_result"
    }
   ],
   "source": [
    "# Tính toán ma trận độ tương đồng cosine giữa tất cả các mô tả công việc. Độ tương đồng cosine đo lường mức độ giống nhau của hai tài liệu dựa trên vectơ TF-IDF của chúng.\n",
    "cosine_sim=linear_kernel(tdif_matrix,tdif_matrix)\n",
    "type(cosine_sim)"
   ]
  },
  {
   "cell_type": "code",
   "execution_count": 15,
   "metadata": {},
   "outputs": [
    {
     "data": {
      "text/plain": [
       "pandas.core.series.Series"
      ]
     },
     "execution_count": 15,
     "metadata": {},
     "output_type": "execute_result"
    }
   ],
   "source": [
    "# Tạo một Series ánh xạ các tiêu đề công việc duy nhất với các chỉ mục tương ứng của chúng trong DataFrame (để truy xuất hiệu quả).\n",
    "indices=pd.Series(df.index, index=df['jobTitle']).drop_duplicates()\n",
    "type(indices)"
   ]
  },
  {
   "cell_type": "code",
   "execution_count": 16,
   "metadata": {},
   "outputs": [],
   "source": [
    "def get_recommendation(title, cosine_sim=cosine_sim):\n",
    "    try:\n",
    "        # Get the index of the input title\n",
    "        idx = indices[title]\n",
    "\n",
    "        # Calculate cosine similarity scores for all jobs\n",
    "        sim_scores = list(enumerate(cosine_sim[idx]))  # Enumerate indices and similarity scores\n",
    "\n",
    "        # Handle potential empty similarity scores (e.g., no related jobs)\n",
    "        if not sim_scores:\n",
    "            print(f\"No similar jobs found for '{title}'.\")\n",
    "            return []\n",
    "\n",
    "        # Sort jobs by similarity score in descending order (most similar first)\n",
    "        sim_scores = sorted(sim_scores, key=lambda x: x[1], reverse=True)\n",
    "\n",
    "        # Select the top 15 jobs (excluding the input job at index 0)\n",
    "        top_15_indices = [i for i, _ in sim_scores[:16]]  # Get top 15 indices (16 to exclude the input)\n",
    "\n",
    "        # Extract job titles from the DataFrame using the selected indices\n",
    "        recommendations = df['jobtitle'].iloc[top_15_indices[1:]]  # Exclude input job at index 0\n",
    "\n",
    "        return recommendations\n",
    "\n",
    "    except KeyError:\n",
    "        print(f\"Job title '{title}' not found in the data.\")\n",
    "        return []"
   ]
  },
  {
   "cell_type": "code",
   "execution_count": 17,
   "metadata": {},
   "outputs": [
    {
     "name": "stdout",
     "output_type": "stream",
     "text": [
      "Job title 'Lead DevOps Engineer' not found in the data.\n"
     ]
    },
    {
     "data": {
      "text/plain": [
       "[]"
      ]
     },
     "execution_count": 17,
     "metadata": {},
     "output_type": "execute_result"
    }
   ],
   "source": [
    "get_recommendation('Lead DevOps Engineer')\n"
   ]
  },
  {
   "cell_type": "markdown",
   "metadata": {},
   "source": [
    "### function insert to database"
   ]
  },
  {
   "cell_type": "code",
   "execution_count": 4,
   "metadata": {},
   "outputs": [
    {
     "name": "stdout",
     "output_type": "stream",
     "text": [
      "Defaulting to user installation because normal site-packages is not writeableNote: you may need to restart the kernel to use updated packages.\n",
      "\n",
      "Requirement already satisfied: mysql-connector-python in c:\\users\\win-pro\\appdata\\local\\packages\\pythonsoftwarefoundation.python.3.12_qbz5n2kfra8p0\\localcache\\local-packages\\python312\\site-packages (8.4.0)\n"
     ]
    }
   ],
   "source": [
    "%pip install mysql-connector-python"
   ]
  },
  {
   "cell_type": "code",
   "execution_count": 7,
   "metadata": {},
   "outputs": [
    {
     "data": {
      "text/plain": [
       "'jobtitle, company, jobdescription, joblocation_address'"
      ]
     },
     "execution_count": 7,
     "metadata": {},
     "output_type": "execute_result"
    }
   ],
   "source": [
    "import pandas as pd\n",
    "# Get the table columns (assuming you know the column names)\n",
    "table_columns = \", \".join(df.columns.tolist())  # Convert list to comma-separated string\n",
    "table_columns"
   ]
  },
  {
   "cell_type": "code",
   "execution_count": 8,
   "metadata": {},
   "outputs": [
    {
     "data": {
      "text/html": [
       "<div>\n",
       "<style scoped>\n",
       "    .dataframe tbody tr th:only-of-type {\n",
       "        vertical-align: middle;\n",
       "    }\n",
       "\n",
       "    .dataframe tbody tr th {\n",
       "        vertical-align: top;\n",
       "    }\n",
       "\n",
       "    .dataframe thead th {\n",
       "        text-align: right;\n",
       "    }\n",
       "</style>\n",
       "<table border=\"1\" class=\"dataframe\">\n",
       "  <thead>\n",
       "    <tr style=\"text-align: right;\">\n",
       "      <th></th>\n",
       "      <th>jobtitle</th>\n",
       "      <th>jobdescription</th>\n",
       "      <th>joblocation_address</th>\n",
       "    </tr>\n",
       "  </thead>\n",
       "  <tbody>\n",
       "    <tr>\n",
       "      <th>0</th>\n",
       "      <td>(US)-Program Manager Senior</td>\n",
       "      <td>Responsible for managing one or more highly co...</td>\n",
       "      <td>Woodland Hills, CA</td>\n",
       "    </tr>\n",
       "    <tr>\n",
       "      <th>1</th>\n",
       "      <td>Business Analyst - Mortgage/Equiting Lending, ...</td>\n",
       "      <td>Job Description: Seeking a Business Process An...</td>\n",
       "      <td>Los Angeles, CA</td>\n",
       "    </tr>\n",
       "    <tr>\n",
       "      <th>2</th>\n",
       "      <td>DHMSM Operational Medicine Interface Developer</td>\n",
       "      <td>TAD PGS, INC. is currently seeking a DHMSM Ope...</td>\n",
       "      <td>Vienna, VA</td>\n",
       "    </tr>\n",
       "    <tr>\n",
       "      <th>3</th>\n",
       "      <td>Information Technology Architect</td>\n",
       "      <td>Our client, one of the world's leading profess...</td>\n",
       "      <td>Alpharetta, GA</td>\n",
       "    </tr>\n",
       "    <tr>\n",
       "      <th>4</th>\n",
       "      <td>SWIFT Messaging Specialist</td>\n",
       "      <td>Our client, one of the largest banking and fin...</td>\n",
       "      <td>Ny, NY</td>\n",
       "    </tr>\n",
       "    <tr>\n",
       "      <th>...</th>\n",
       "      <td>...</td>\n",
       "      <td>...</td>\n",
       "      <td>...</td>\n",
       "    </tr>\n",
       "    <tr>\n",
       "      <th>3412</th>\n",
       "      <td>Senior C++ Developer</td>\n",
       "      <td>Excellent opportunity for a highly skilled C++...</td>\n",
       "      <td>Greenwich, CT</td>\n",
       "    </tr>\n",
       "    <tr>\n",
       "      <th>3413</th>\n",
       "      <td>Software Developer</td>\n",
       "      <td>Title: Software DeveloperMandatory skills: OOP...</td>\n",
       "      <td>Princeton, NJ</td>\n",
       "    </tr>\n",
       "    <tr>\n",
       "      <th>3414</th>\n",
       "      <td>Storage Admin - Hitachi Data Systems</td>\n",
       "      <td>Required:Ability to perform scripting using PE...</td>\n",
       "      <td>Jersey City, NJ</td>\n",
       "    </tr>\n",
       "    <tr>\n",
       "      <th>3415</th>\n",
       "      <td>Lead Data Integration Engineer</td>\n",
       "      <td>Our client is currently seeking a Lead Data In...</td>\n",
       "      <td>Blue Bell, PA</td>\n",
       "    </tr>\n",
       "    <tr>\n",
       "      <th>3416</th>\n",
       "      <td>ACD (Design)</td>\n",
       "      <td>Position: ACD (Design)Location: South JerseySt...</td>\n",
       "      <td>Hamilton, NJ</td>\n",
       "    </tr>\n",
       "  </tbody>\n",
       "</table>\n",
       "<p>3417 rows × 3 columns</p>\n",
       "</div>"
      ],
      "text/plain": [
       "                                               jobtitle  \\\n",
       "0                           (US)-Program Manager Senior   \n",
       "1     Business Analyst - Mortgage/Equiting Lending, ...   \n",
       "2        DHMSM Operational Medicine Interface Developer   \n",
       "3                      Information Technology Architect   \n",
       "4                            SWIFT Messaging Specialist   \n",
       "...                                                 ...   \n",
       "3412                               Senior C++ Developer   \n",
       "3413                                 Software Developer   \n",
       "3414               Storage Admin - Hitachi Data Systems   \n",
       "3415                     Lead Data Integration Engineer   \n",
       "3416                                       ACD (Design)   \n",
       "\n",
       "                                         jobdescription joblocation_address  \n",
       "0     Responsible for managing one or more highly co...  Woodland Hills, CA  \n",
       "1     Job Description: Seeking a Business Process An...     Los Angeles, CA  \n",
       "2     TAD PGS, INC. is currently seeking a DHMSM Ope...          Vienna, VA  \n",
       "3     Our client, one of the world's leading profess...      Alpharetta, GA  \n",
       "4     Our client, one of the largest banking and fin...              Ny, NY  \n",
       "...                                                 ...                 ...  \n",
       "3412  Excellent opportunity for a highly skilled C++...       Greenwich, CT  \n",
       "3413  Title: Software DeveloperMandatory skills: OOP...       Princeton, NJ  \n",
       "3414  Required:Ability to perform scripting using PE...     Jersey City, NJ  \n",
       "3415  Our client is currently seeking a Lead Data In...       Blue Bell, PA  \n",
       "3416  Position: ACD (Design)Location: South JerseySt...        Hamilton, NJ  \n",
       "\n",
       "[3417 rows x 3 columns]"
      ]
     },
     "execution_count": 8,
     "metadata": {},
     "output_type": "execute_result"
    }
   ],
   "source": [
    "df1 = df[['jobtitle', 'jobdescription', 'joblocation_address']]\n",
    "df1"
   ]
  },
  {
   "cell_type": "code",
   "execution_count": 9,
   "metadata": {},
   "outputs": [
    {
     "data": {
      "text/html": [
       "<div>\n",
       "<style scoped>\n",
       "    .dataframe tbody tr th:only-of-type {\n",
       "        vertical-align: middle;\n",
       "    }\n",
       "\n",
       "    .dataframe tbody tr th {\n",
       "        vertical-align: top;\n",
       "    }\n",
       "\n",
       "    .dataframe thead th {\n",
       "        text-align: right;\n",
       "    }\n",
       "</style>\n",
       "<table border=\"1\" class=\"dataframe\">\n",
       "  <thead>\n",
       "    <tr style=\"text-align: right;\">\n",
       "      <th></th>\n",
       "      <th>jobtitle</th>\n",
       "      <th>jobdescription</th>\n",
       "      <th>joblocation_address</th>\n",
       "      <th>job_field_code</th>\n",
       "      <th>salary_code</th>\n",
       "      <th>job_type_code</th>\n",
       "      <th>yeu_cau_cong_viec</th>\n",
       "      <th>deadline</th>\n",
       "      <th>degree_code</th>\n",
       "      <th>id_employer</th>\n",
       "      <th>quyen_loi</th>\n",
       "      <th>province_cong_viec</th>\n",
       "    </tr>\n",
       "  </thead>\n",
       "  <tbody>\n",
       "    <tr>\n",
       "      <th>0</th>\n",
       "      <td>(US)-Program Manager Senior</td>\n",
       "      <td>Responsible for managing one or more highly co...</td>\n",
       "      <td>Woodland Hills, CA</td>\n",
       "      <td>IT</td>\n",
       "      <td>0</td>\n",
       "      <td>FT</td>\n",
       "      <td>- Trung thực, tư duy tốt, có khả năng học hỏi ...</td>\n",
       "      <td>2024-06-30 00:00:00</td>\n",
       "      <td>CN</td>\n",
       "      <td>4</td>\n",
       "      <td>- Thu nhập: Thương lượng (từ 7-15 triệu) tuỳ t...</td>\n",
       "      <td>DN</td>\n",
       "    </tr>\n",
       "    <tr>\n",
       "      <th>1</th>\n",
       "      <td>Business Analyst - Mortgage/Equiting Lending, ...</td>\n",
       "      <td>Job Description: Seeking a Business Process An...</td>\n",
       "      <td>Los Angeles, CA</td>\n",
       "      <td>IT</td>\n",
       "      <td>0</td>\n",
       "      <td>FT</td>\n",
       "      <td>- Trung thực, tư duy tốt, có khả năng học hỏi ...</td>\n",
       "      <td>2024-06-30 00:00:00</td>\n",
       "      <td>CN</td>\n",
       "      <td>4</td>\n",
       "      <td>- Thu nhập: Thương lượng (từ 7-15 triệu) tuỳ t...</td>\n",
       "      <td>DN</td>\n",
       "    </tr>\n",
       "    <tr>\n",
       "      <th>2</th>\n",
       "      <td>DHMSM Operational Medicine Interface Developer</td>\n",
       "      <td>TAD PGS, INC. is currently seeking a DHMSM Ope...</td>\n",
       "      <td>Vienna, VA</td>\n",
       "      <td>IT</td>\n",
       "      <td>0</td>\n",
       "      <td>FT</td>\n",
       "      <td>- Trung thực, tư duy tốt, có khả năng học hỏi ...</td>\n",
       "      <td>2024-06-30 00:00:00</td>\n",
       "      <td>CN</td>\n",
       "      <td>4</td>\n",
       "      <td>- Thu nhập: Thương lượng (từ 7-15 triệu) tuỳ t...</td>\n",
       "      <td>DN</td>\n",
       "    </tr>\n",
       "    <tr>\n",
       "      <th>3</th>\n",
       "      <td>Information Technology Architect</td>\n",
       "      <td>Our client, one of the world's leading profess...</td>\n",
       "      <td>Alpharetta, GA</td>\n",
       "      <td>IT</td>\n",
       "      <td>0</td>\n",
       "      <td>FT</td>\n",
       "      <td>- Trung thực, tư duy tốt, có khả năng học hỏi ...</td>\n",
       "      <td>2024-06-30 00:00:00</td>\n",
       "      <td>CN</td>\n",
       "      <td>4</td>\n",
       "      <td>- Thu nhập: Thương lượng (từ 7-15 triệu) tuỳ t...</td>\n",
       "      <td>DN</td>\n",
       "    </tr>\n",
       "    <tr>\n",
       "      <th>4</th>\n",
       "      <td>SWIFT Messaging Specialist</td>\n",
       "      <td>Our client, one of the largest banking and fin...</td>\n",
       "      <td>Ny, NY</td>\n",
       "      <td>IT</td>\n",
       "      <td>0</td>\n",
       "      <td>FT</td>\n",
       "      <td>- Trung thực, tư duy tốt, có khả năng học hỏi ...</td>\n",
       "      <td>2024-06-30 00:00:00</td>\n",
       "      <td>CN</td>\n",
       "      <td>4</td>\n",
       "      <td>- Thu nhập: Thương lượng (từ 7-15 triệu) tuỳ t...</td>\n",
       "      <td>DN</td>\n",
       "    </tr>\n",
       "  </tbody>\n",
       "</table>\n",
       "</div>"
      ],
      "text/plain": [
       "                                            jobtitle  \\\n",
       "0                        (US)-Program Manager Senior   \n",
       "1  Business Analyst - Mortgage/Equiting Lending, ...   \n",
       "2     DHMSM Operational Medicine Interface Developer   \n",
       "3                   Information Technology Architect   \n",
       "4                         SWIFT Messaging Specialist   \n",
       "\n",
       "                                      jobdescription joblocation_address  \\\n",
       "0  Responsible for managing one or more highly co...  Woodland Hills, CA   \n",
       "1  Job Description: Seeking a Business Process An...     Los Angeles, CA   \n",
       "2  TAD PGS, INC. is currently seeking a DHMSM Ope...          Vienna, VA   \n",
       "3  Our client, one of the world's leading profess...      Alpharetta, GA   \n",
       "4  Our client, one of the largest banking and fin...              Ny, NY   \n",
       "\n",
       "  job_field_code salary_code job_type_code  \\\n",
       "0             IT           0            FT   \n",
       "1             IT           0            FT   \n",
       "2             IT           0            FT   \n",
       "3             IT           0            FT   \n",
       "4             IT           0            FT   \n",
       "\n",
       "                                   yeu_cau_cong_viec             deadline  \\\n",
       "0  - Trung thực, tư duy tốt, có khả năng học hỏi ...  2024-06-30 00:00:00   \n",
       "1  - Trung thực, tư duy tốt, có khả năng học hỏi ...  2024-06-30 00:00:00   \n",
       "2  - Trung thực, tư duy tốt, có khả năng học hỏi ...  2024-06-30 00:00:00   \n",
       "3  - Trung thực, tư duy tốt, có khả năng học hỏi ...  2024-06-30 00:00:00   \n",
       "4  - Trung thực, tư duy tốt, có khả năng học hỏi ...  2024-06-30 00:00:00   \n",
       "\n",
       "  degree_code id_employer                                          quyen_loi  \\\n",
       "0          CN           4  - Thu nhập: Thương lượng (từ 7-15 triệu) tuỳ t...   \n",
       "1          CN           4  - Thu nhập: Thương lượng (từ 7-15 triệu) tuỳ t...   \n",
       "2          CN           4  - Thu nhập: Thương lượng (từ 7-15 triệu) tuỳ t...   \n",
       "3          CN           4  - Thu nhập: Thương lượng (từ 7-15 triệu) tuỳ t...   \n",
       "4          CN           4  - Thu nhập: Thương lượng (từ 7-15 triệu) tuỳ t...   \n",
       "\n",
       "  province_cong_viec  \n",
       "0                 DN  \n",
       "1                 DN  \n",
       "2                 DN  \n",
       "3                 DN  \n",
       "4                 DN  "
      ]
     },
     "execution_count": 9,
     "metadata": {},
     "output_type": "execute_result"
    }
   ],
   "source": [
    "# Add new columns with default values\n",
    "df1['job_field_code'] = 'IT'\n",
    "df1['salary_code'] = '0'\n",
    "df1['job_type_code'] = 'FT'\n",
    "df1['yeu_cau_cong_viec'] = \"\"\"- Trung thực, tư duy tốt, có khả năng học hỏi công nghệ mới nhanh\n",
    "- Tiếng anh giao tiếp tốt\"\"\"\n",
    "df1['deadline'] = '2024-06-30 00:00:00'\n",
    "df1['degree_code'] = 'CN'\n",
    "df1['id_employer'] = '4'\n",
    "df1['quyen_loi'] = \"\"\"- Thu nhập: Thương lượng (từ 7-15 triệu) tuỳ theo năng lực và kinh nghiệm.\n",
    "- Cơ hội thăng tiến tốt\n",
    "- Tham gia BHXH, BHTN, BHYT theo đúng quy định nhà nước\n",
    "- Được thưởng tháng lương thứ 13....\n",
    "- Ngoài ra còn rất nhiều quyền lợi khác.\"\"\"\n",
    "df1['province_cong_viec'] = 'DN'\n",
    "df1.head()"
   ]
  },
  {
   "cell_type": "code",
   "execution_count": null,
   "metadata": {},
   "outputs": [],
   "source": [
    "# df1.drop('quyen_loi', axis=1, inplace=True)  # Drop the 'quyen_loi' column"
   ]
  },
  {
   "cell_type": "code",
   "execution_count": null,
   "metadata": {},
   "outputs": [],
   "source": [
    "employer = df[['company']]\n",
    "employer"
   ]
  },
  {
   "cell_type": "code",
   "execution_count": 10,
   "metadata": {},
   "outputs": [
    {
     "name": "stdout",
     "output_type": "stream",
     "text": [
      "Successfully inserted 100 rows to the database.\n"
     ]
    }
   ],
   "source": [
    "import mysql.connector\n",
    "try:\n",
    "    mydb = mysql.connector.connect(\n",
    "    host=\"localhost\",\n",
    "    user=\"root\",\n",
    "    password=\"\",\n",
    "    database=\"tuyendung\",\n",
    "  )\n",
    "    cursor = mydb.cursor()\n",
    "    \n",
    "    sql_insert = f\"\"\"INSERT INTO `jobs` (`vi_tri`, `mo_ta`, `address_cong_viec`, `job_field_code`, `salary_code`, `job_type_code`,\n",
    "    `yeu_cau_cong_viec`, `deadline`,  `degree_code`, `id_employer`, `quyen_loi`, `province_cong_viec`) VALUES (%s, %s, %s, %s, %s, %s, %s, %s, %s, %s, %s, %s)\"\"\"\n",
    "    # values = df1.head(10).to_records(index=False).tolist()\n",
    "    values = df1.iloc[100:200].to_records(index=False).tolist()\n",
    "\n",
    "    cursor.executemany(sql_insert, values)\n",
    "    mydb.commit()\n",
    "\n",
    "    print(f\"Successfully inserted {cursor.rowcount} rows to the database.\")\n",
    "\n",
    "except mysql.connector.Error as err:\n",
    "    print(\"Error connecting to database:\", err)\n",
    "finally:\n",
    "    if mydb:\n",
    "        mydb.close()\n",
    "        cursor.close()"
   ]
  },
  {
   "cell_type": "code",
   "execution_count": 108,
   "metadata": {},
   "outputs": [
    {
     "data": {
      "text/plain": [
       "rec.array([('Mobile Device QA Tester II', \"Denali Advanced Integration is one of the nation’s leading technology integrators by volume and capacity with experience in Data Center, Unified Communication’s, Mobility and Virtualization and Testing. Denali has more than 400 dedicated employees focused on design, architecture, implementation, operations and Mobile Device Testing. From Client End Devices to the Cloud, Denali provides service to retail, healthcare, industrial, government and telecom environments both domestically and abroad. We are seeking a results driven, Mobile Device Tester with a background in call-center/customer support/technical support with post product (website/mobile app and content) launch support to join our fast-growing Test Team in SE Bellevue, WA. This role reports to the Manager of Product Realization Post-Launch Support. JOB DESCRIPTION:Your first role is in our client's Product Realization Post-Launch Support group, and is responsible for the post-launch support of multiple Control, Self Help, Mobile App and Web content products and programs. The team focuses on partnering the client’s cross-functional organizations to resolve various post-launch website and mobile app issues/bugs. In addition, the team is responsible for maintaining the purity of responsible products, while balancing the customer experience, and keeping in-mind the best interest of the client. In this role you will:Recreate bugs off existing trouble tickets, create bug reports, and drive bugs fixes across various teams (development, testing and content). UAT, eCommerce platform implementation testing, regression, BVT, etc. Create test cases, User Stories, defects, et al., using Rally, Jira and ALM/Quality CenterWork with the QA Manager to evaluate and enhance SQA standards, technologies and approachesProvide subject matter expert knowledge on Quality Assurance software, best practices, eCommerce, etc.Verify and implement testing on mobile devices, tablets and desktop environments.BASIC QUALIFICATIONS:1+ year of Mobile Device Testing (Android, IOS and/or Windows) is required.1-2 years of relevant work experience working for wireless carrier or vendor in Product Development, Project Management, Engineering, IT, or Technical Care.Must have previous and proficient knowledge of wireless telecom services/experience.1-2 years of work experience and demonstrated success in operations or service management roles.Must have strong wireless GSM/GPRS, handset client, content, and mobile web technology knowledge 1-2 years of Test Lead, Program Coordination or Project Management.1-2 years experienced in business analysis, process analysis and data analysis.Must excel at building relationships and influencing teams.Excellent coordination and project management skills.Excellent verbal and written communication skills.Thought leadership, strong personal work ethic and initiative, willingness to jump in and solve problems\", 'Bellevue, WA', 'IT', '0', 'FT', '- Trung thực, tư duy tốt, có khả năng học hỏi công nghệ mới nhanh\\n- Tiếng anh giao tiếp tốt', '2024-06-30 00:00:00', 'CN', '4', '- Thu nhập: Thương lượng (từ 7-15 triệu) tuỳ theo năng lực và kinh nghiệm.\\n- Cơ hội thăng tiến tốt\\n- Tham gia BHXH, BHTN, BHYT theo đúng quy định nhà nước\\n- Được thưởng tháng lương thứ 13....\\n- Ngoài ra còn rất nhiều quyền lợi khác.', 'DN'),\n",
       "           ('Processor (Screen) - 3rd Shift', 'TAD PGS, INC. is currently seeking an Processor (Screen) - 3rd Shift for one of our clients in Tempe, AZ.Company Description: Go Beyond. It’s more than a phrase. It’s the way our client lives and the way they work, the way they are seen by our customers and our employees. They never compromise on their promise to Go Beyond. It is who they are, for more than a decade they have delivered superior performance. They are known for our ability to combine know-how and technology quickly and effectively to create solutions. Join their team and their proven promise of integrity, accessibility and continuity. They want you to join them and Go Beyond. Job Overview: To utilize various manual and automated equipment to build Screen components. Clean, inspect, load and unload Screen Components from processing equipment. Performs other duties as assigned. Major Responsibilities:Good hand/eye coordinationRead drawings/blueprints/work instructionsAbility to sit or stand for long periods of timeClose attention to detail and qualityDemonstrated problem solving techniquesSemi-clean room experience required5S principles and practicesGood communication skillsTeamwork orientedAbility to work with little or no supervision if requiredAbility to make quality decisions quicklyRequired Qualifications:High school diploma or equivalent.TAD PGS, INC. specializes in delivering secure, reliable and rapidly implemented workforce solutions to the U.S. Federal marketplace, including U.S. Government agencies and their prime contractors. With more than 50 years of experience, TAD PGS, INC. has earned a reputation for accountability, a value that government agencies and prime contractors both demand and deserve.TAD PGS, INC. sources professionals for the full spectrum of federal positions, from administrative to management, and those contracts requiring extremely niche-oriented technical skills and the highest levels of security clearance.', 'Tempe, AZ', 'IT', '0', 'FT', '- Trung thực, tư duy tốt, có khả năng học hỏi công nghệ mới nhanh\\n- Tiếng anh giao tiếp tốt', '2024-06-30 00:00:00', 'CN', '4', '- Thu nhập: Thương lượng (từ 7-15 triệu) tuỳ theo năng lực và kinh nghiệm.\\n- Cơ hội thăng tiến tốt\\n- Tham gia BHXH, BHTN, BHYT theo đúng quy định nhà nước\\n- Được thưởng tháng lương thứ 13....\\n- Ngoài ra còn rất nhiều quyền lợi khác.', 'DN'),\n",
       "           ('Sr. Application Programmer', \"Senior Developer resource to fill position as on-site development role for a global application for sanctions and AML screening. This resource will have 7-10 years development and deployment experience in a hands-on role in addition to expert knowledge of Oracle databases, Java, Unix, WebSphere, MQ, NDM, Web Services, and end-to-end software design and development. This resource will be part of a global team performing development and deployment including requirements, design, development, testing, implementation, and level-3 support. The correct candidate will have ability to manage multiple parallel projects with varying scope and requirements; communicate with business stakeholders, management and internal partners; ensure delivery of stable and defect-free software meeting business requirements; support user acceptance testing, implementation to multiple global instances, and perform effective handover to dependent groups such as business, operations and production support. Additional qualifications include strong analytic and decision making skills based on multiple technical and business impacts; strong written and verbal communication skills for working with partners, stakeholders and management; and being flexible, team-oriented, have good interpersonal, communication, and follow-up skills with strong attention to detail and ability to multi-task. Princeton Information is one of the nation's top five privately-held IT consulting firms, in business since 1985. Princeton Information services a clientele of primarily Fortune 500 companies nationwide. With annual revenues over $120 million, Princeton Information operates across the US from multiple regional offices. Our Commitment to Our Consultants As a privately held company, Princeton Information is solely committed to the success of clients and consultants - not to any shareholders. PI's success is grounded in the relationships we build with our consultants. We seek the best people; provide career path counseling; as well as the most challenging opportunities in business and in IT. As part of its culture of loyalty and commitment to its consultants, Princeton Information is committed to doing all we can to ensure our consultants have the best possible search, placement and work experience possible. Our Services Working with one Princeton Recruiter will gain you access to over 500 open requirements with the top clients in the US across all industries (finance, insurance, pharmaceutical, commercial, telecom, media, manufacturing) nationwide. Our local recruiters have in-depth knowledge of our clients and opportunities. They will work with you to find you the best possible opportunities for you and your career. Our Relationships Our relationships with our clients, as well as our consultants, are critical to our success! We have a robust sales organization that ensures that Princeton has the inside track on what attributes a person needs in order to be successfully placed and engaged at our clients. We know the technical and non-technical skills that our clients are looking for and we ensure that you are educated about the client prior to your interview with them. Princeton is committed to going above and beyond to ensure that each meeting you have with a client is a successful one!\", 'Tampa, FL', 'IT', '0', 'FT', '- Trung thực, tư duy tốt, có khả năng học hỏi công nghệ mới nhanh\\n- Tiếng anh giao tiếp tốt', '2024-06-30 00:00:00', 'CN', '4', '- Thu nhập: Thương lượng (từ 7-15 triệu) tuỳ theo năng lực và kinh nghiệm.\\n- Cơ hội thăng tiến tốt\\n- Tham gia BHXH, BHTN, BHYT theo đúng quy định nhà nước\\n- Được thưởng tháng lương thứ 13....\\n- Ngoài ra còn rất nhiều quyền lợi khác.', 'DN'),\n",
       "           ('Full Stack Developer', \"No remote work permitted-must be onsite. START UP environment!! Full-Stack Developer: \\xa0 The Full-Stack Developer demonstrates a broad and comprehensive knowledge of our product development from a technical perspective and has broad knowledge across the ReactiveCore technical platforms with competency in both front-end and back-end development. Overall responsibilities encompass full SDLC Life Cycle applications development, maintenance and deployment of our Reactive Systems. Technical Requirements: \\xa0 Software developer experienced in User Interface development (using Angular2 and Typescript preferred) and in using the Big Data Apache open source components including Scala, Spark, Kafka, Akka, Cassandra, ElasticSearch, leveraging an Agile-Scrum development method. Job Experiences & Background: \\xa0 Demonstrate having at least 6 years of software development experience with programming experience across multiple technologies and multiple platforms. Experiences demonstrate expertise in one or more platforms with ability to program across the technology stack. Keeps current on changing technology offerings in area of discipline. Demonstrated ability to collaborate and deliver work as a remote team member. Excellent communication skills with ability to present to a range of audiences (line managers to executives). Proficient in two or more business areas. Ability to learn new business areas. Experience at a start-up company and/or working in Agile-Scrum based methods. Education Requirements: \\xa0 A bachelor's degree in computer science, or related degree program. Work towards advanced degree studies, or certifications. Princeton Information is one of the nation's top five privately-held IT consulting firms, in business since 1985. Princeton Information services a clientele of primarily Fortune 500 companies nationwide. With annual revenues over $120 million, Princeton Information operates across the US from multiple regional offices. Our Commitment to Our Consultants As a privately held company, Princeton Information is solely committed to the success of clients and consultants - not to any shareholders. PI's success is grounded in the relationships we build with our consultants. We seek the best people; provide career path counseling; as well as the most challenging opportunities in business and in IT. As part of its culture of loyalty and commitment to its consultants, Princeton Information is committed to doing all we can to ensure our consultants have the best possible search, placement and work experience possible. Our Services Working with one Princeton Recruiter will gain you access to over 500 open requirements with the top clients in the US across all industries (finance, insurance, pharmaceutical, commercial, telecom, media, manufacturing) nationwide. Our local recruiters have in-depth knowledge of our clients and opportunities. They will work with you to find you the best possible opportunities for you and your career. Our Relationships Our relationships with our clients, as well as our consultants, are critical to our success! We have a robust sales organization that ensures that Princeton has the inside track on what attributes a person needs in order to be successfully placed and engaged at our clients. We know the technical and non-technical skills that our clients are looking for and we ensure that you are educated about the client prior to your interview with them. Princeton is committed to going above and beyond to ensure that each meeting you have with a client is a successful one!\", 'New York, NY', 'IT', '0', 'FT', '- Trung thực, tư duy tốt, có khả năng học hỏi công nghệ mới nhanh\\n- Tiếng anh giao tiếp tốt', '2024-06-30 00:00:00', 'CN', '4', '- Thu nhập: Thương lượng (từ 7-15 triệu) tuỳ theo năng lực và kinh nghiệm.\\n- Cơ hội thăng tiến tốt\\n- Tham gia BHXH, BHTN, BHYT theo đúng quy định nhà nước\\n- Được thưởng tháng lương thứ 13....\\n- Ngoài ra còn rất nhiều quyền lợi khác.', 'DN'),\n",
       "           ('Technology Manager of Analytics', 'Our client is seeking a Technology Manager of Analytics. \\xa0 Location: Jersey City, NJ Position Type: Full Time \\xa0 Job Spec:\\xa0 - Th is is a senior, full-time role. - Ad vertising solutions and statistics, this role is on the technical side. - Familiarity with trading. - This job is about integrating big data in technology with business and the agile method. - The agile method is everyone is full hands on deck. - Everyone does a bit of everything and learn as they go. - Smaller company allows employees to be involved in front, back end developing, etc. - Important that person in this role communicates to the entire team.\\xa0 \\xa0 Key Skillsets: - Python, FullStack , Google Analytics, MOAT', 'Jersey City, NJ', 'IT', '0', 'FT', '- Trung thực, tư duy tốt, có khả năng học hỏi công nghệ mới nhanh\\n- Tiếng anh giao tiếp tốt', '2024-06-30 00:00:00', 'CN', '4', '- Thu nhập: Thương lượng (từ 7-15 triệu) tuỳ theo năng lực và kinh nghiệm.\\n- Cơ hội thăng tiến tốt\\n- Tham gia BHXH, BHTN, BHYT theo đúng quy định nhà nước\\n- Được thưởng tháng lương thứ 13....\\n- Ngoài ra còn rất nhiều quyền lợi khác.', 'DN'),\n",
       "           ('Exhaust Processor (Exhaust) 3rd Shift', 'TAD PGS, INC. is currently seeking an Exhaust Processor (Exhaust) 3rd Shift for one of our clients in Tempe, AZ. **Candidate must have the ability to obtain and maintain a Confidential Security Clearance** Company Description: Go Beyond. It’s more than a phrase. It’s the way our client lives and the way they work, the way they are seen by our customers and our employees. They never compromise on their promise to Go Beyond. It is who they are, for more than a decade they have delivered superior performance. They are known for our ability to combine know-how and technology quickly and effectively to create solutions. Join their team and their proven promise of integrity, accessibility and continuity. They want you to join them and Go Beyond. Job Overview: Main function is to vacuum process and assemble components for the manufacture of bare image intensifier tubes for use in night vision products. The Exhaust Processor receives the preassembled tube and loads it into the exhaust station. They then process and activate the tube and cathode under ultra-high vacuum. The tube is then sealed and unloaded. All process data is recorded in the quality tracking system (QTS), then the tube and the accompanying paperwork are delivered to Initial Test (I-Test). Required Qualifications:High School Diploma or equivalentAbility to read/write in EnglishClient provided in-house clean-room certificationAttainment of OJT certification in 50% of the critical exhaust processes for their exhaust area.One to three years of exhaust/vacuum experience within the Exhaust Processor Job Family, or having a minimum of two years’ experience within the high-tech manufacturing environment with like experience and equivalent knowledge.Must be able to follow written procedures and complete assigned work in a timely manner to keep production schedule while maintaining acceptable yields as determined by area supervisors and engineersGeneral knowledge of ultra-high vacuum technology (OJT provided)Basic computer knowledge for data entry and email communication OJT forms and visual aidsBasic electrical knowledge, Lock-out/Tag-out and industrial safety (OJT provided)Use of hand tools, including but not limited to, power drivers and torque wrenchesUse of Digital Multi-Meters (DMM), high voltage probes and general electronic equipmentTAD PGS, INC. specializes in delivering secure, reliable and rapidly implemented workforce solutions to the U.S. Federal marketplace, including U.S. Government agencies and their prime contractors. With more than 50 years of experience, TAD PGS, INC. has earned a reputation for accountability, a value that government agencies and prime contractors both demand and deserve.TAD PGS, INC. sources professionals for the full spectrum of federal positions, from administrative to management, and those contracts requiring extremely niche-oriented technical skills and the highest levels of security clearance.', 'Tempe, AZ', 'IT', '0', 'FT', '- Trung thực, tư duy tốt, có khả năng học hỏi công nghệ mới nhanh\\n- Tiếng anh giao tiếp tốt', '2024-06-30 00:00:00', 'CN', '4', '- Thu nhập: Thương lượng (từ 7-15 triệu) tuỳ theo năng lực và kinh nghiệm.\\n- Cơ hội thăng tiến tốt\\n- Tham gia BHXH, BHTN, BHYT theo đúng quy định nhà nước\\n- Được thưởng tháng lương thứ 13....\\n- Ngoài ra còn rất nhiều quyền lợi khác.', 'DN'),\n",
       "           ('Security - InfoSec Assessment', 'Security - InfoSec AssessmentOur client is seeking a highly motivated, passionate, and seasoned hands-on leader to scale the security testing and assessments team. The objective of this role is to ensure they have comprehensive end-to-end independent and continuous security testing for their infrastructure and systems, including a leading a comprehensive program to assess the security posture of their products and SaaS environment. The lead of Infosec Assessment will be accountable for vulnerability management, penetration testing (in-house and outsourced), driving threat-modeling scenarios, and conducting other Red Team activities. This high impact assessment function will target an enterprise-wide scope including corporate infrastructure, all product offerings, and cloud infrastructure / services. Candidate should have either led red teams in the recent past or is a seasoned and senior penetration tester. Candidate must be willing to roll up their sleeves and lead by example. About the RoleBuild, develop, and manage a high-speed internal penetration testing capability for continuously assessing all company products, services, applications, and infrastructure.Improve the company’s products, infrastructure, and services by identifying and communicating vulnerability patterns with the Security Engineering function and others business functions.Track and trend vulnerability response and improvement activities in partnership with engineering leadership, product management, customer support, corporate IT, and other stakeholders.Lead Red Team-Blue Team exercises to not just identify holes in security, but to train security personnel, management, and other stakeholdersDocuments wiki, run books, and trains others.Continuously identify areas needing improvement, creates action plans, and executes to implement changes in a timely mannerCreates a collaborative environment that reinforces a culture of innovation, ownership, transparency, and alignment to business objectives, balancing risk tradeoffs with options and data.An ideal candidate will have:A bachelor’s in computer science (or equivalent) degree with 6 to 10 years of documented information security work experienceDemonstrated experience in formal penetration testing methodologies.Demonstrated ability to formulate threat-based modeling and detailed attack scenarios. “Thinking like a bad actor”Experience with complex SaaS and Corporate IT services environmentsPrior experience working with a variety of 3rd party security assessment firms.Experience analyzing, translating, and measuring vulnerability findings across disparate technologies, services, and infrastructures portfolios utilizing varying assessment approaches.Experience in red team-blue team tabletop exercises. Must be able to demonstrate with examples from past experience and articulation of process.Prior experience developing vulnerability management programs, leveraging CVSS scoring methodology for internal process risk-based engineering prioritization.Familiarity with operating enterprise security technologies and working within enterprise security processes.Excellent written visualization and verbal communication skills.', 'San Francisco, CA', 'IT', '0', 'FT', '- Trung thực, tư duy tốt, có khả năng học hỏi công nghệ mới nhanh\\n- Tiếng anh giao tiếp tốt', '2024-06-30 00:00:00', 'CN', '4', '- Thu nhập: Thương lượng (từ 7-15 triệu) tuỳ theo năng lực và kinh nghiệm.\\n- Cơ hội thăng tiến tốt\\n- Tham gia BHXH, BHTN, BHYT theo đúng quy định nhà nước\\n- Được thưởng tháng lương thứ 13....\\n- Ngoài ra còn rất nhiều quyền lợi khác.', 'DN'),\n",
       "           ('Sr. Systems Engineer - Storage (Contract-to-Hire)', 'Job Req #: 16-10313Job Description:\\xa0 Sr. Systems Engineer - StorageLocation:\\xa0 Vernon Hills, ILPosition Type:\\xa0 Contract-to-hireKey Responsibilities: Recommends, designs, implements, and optimizes Storage and backup infrastructure Applies expert knowledge and skills to deliver a stable, secure, fault tolerant, scalable, and flexible storage and backup infrastructure for operations Leads support efforts when storage and backup problems arise, and coordinates and drives successful implementations with staff and vendor personnel, including contributing to storage and backup technology strategy and participating in product evaluation and selection Mentor and provide guidance to the System Engineering staff Support, install, maintain, and troubleshoot storage, backup and related software Coordinate and/or complete repairs of physical and logical failures Optimize and design processes to ensure proper software and firmware patch levels Remediate issues and identify the root causes from Storage and backup System error events and monitor for performance bottlenecks Lead the technical architecture documentation for storage infrastructure and ensure they are up-to-date Identify, recommend and implement hardware upgrades and coordinates installation activities Manage and maintain the storage, backup and Hyperconverged architecture Coordinate and design Storage and backup implementations for application environments with coworkers and vendor personnel Act as a technical point of reference for and mentor other Engineers Collaborate with business owners to complete server project requirements Participate in business continuity planning for infrastructure Coordinate with IT Help Desk to communicate issue status and respond to questions Rotates On-Call support responsibility Support security policies, practices, and guidelines for the server infrastructure Researches, recommends tests and installs new hardware and software versions as required meeting business needs and using best practices Proactively collaborate cross-departmentally on projects Work additional evening and weekend hours as necessary Management of Hyperconverged, SAN, NAS and backup environments Management of Cisco MDS environment Collaborate with storage providers to validate applicable patches, schedule installations and upgrades Create and manage Disaster Recovery and Business Continuity solutions as it relates to data storage Monitor and test system performance; prepare and deliver system performance statistics and reports Gauge the effectiveness and efficiency of existing systems; develop and implement strategies for improving or further leveraging these systems Respond to and resolve support cases generated in support ticketing system (Remedy) Be a point of escalation for junior engineersQualifications:\\xa0 High School Diploma or equivalent 7+ years of experience in Information Technology Engineering Technical certifications associated to the chosen technological track Expert working knowledge of the appropriate storage systems and physical hardware Proven history of balancing multiple priorities simultaneously with the ability to adapt to the changing needs of the business while meeting deadlines Flexibility to work evening and weekend hours as necessary Excellent verbal and written communication skills with the ability to relay technical information to a non-technical audience and effectively interact with all stakeholders including senior leadership Solid process documentation skills Expert understanding of Storage Area Networks, including solutions from EMC (VNX, VMAX, Unity, Avamar, Data Domain) and Nutanix systems Expert management experience with Cisco MDS zoning Experience managing Linux servers and environments Experience with VMware virtual server farms Experience deploying software, firmware, and updates to storage and backup environments Experience with DR planning, concepts, and strategies as it relates to storage and backup Experience managing team projects and mentoringAbout Ascent:The Ascent Services Group (ASG) is a nationally recognized technology staffing and consulting firm whose fundamental business is providing staffing services to Small, Medium, and Large Enterprise clients in our core market verticals: Financial Services, Healthcare, Technology and Life Sciences.\\xa0 As consultants for ASG, you will have access to many of the top clients within the industries we serve.\\xa0 Our goal is to deliver innovative talent through proven best practices and effective resource optimization.\\xa0 Become one of ASG’s candidates and experience the difference!IND05', 'Vernon Hills, IL', 'IT', '0', 'FT', '- Trung thực, tư duy tốt, có khả năng học hỏi công nghệ mới nhanh\\n- Tiếng anh giao tiếp tốt', '2024-06-30 00:00:00', 'CN', '4', '- Thu nhập: Thương lượng (từ 7-15 triệu) tuỳ theo năng lực và kinh nghiệm.\\n- Cơ hội thăng tiến tốt\\n- Tham gia BHXH, BHTN, BHYT theo đúng quy định nhà nước\\n- Được thưởng tháng lương thứ 13....\\n- Ngoài ra còn rất nhiều quyền lợi khác.', 'DN'),\n",
       "           ('SAP Technical Lead (ERP, ECC, HANA) in Melville, NY or Davidson, NC', 'SAP Technical Lead (ERP, ECC, HANA) in Melville, NY or Davidson, NCPosition: SAP Technical Lead (ERP, ECC, HANA)Duration: Full-Time Permanent position (no contract, no corp to corp, no remote)Location: Melville, NY or Davidson, NCSalary: Excellent compensation with benefits + bonusSkills: SAP Technical Lead, SAP ERP, SAP ECC, HANAROLE DESCRIPTION:The SAP Technical Lead engages with business stakeholders, system implementation partners, and IT team to develop SAP functional and technical solutions covering finance, human resources, procurement, sales, and end-to-end supply chain.DUTIES AND RESPONSIBILITIES:Leverages and applies hands-on experience in systems analysis, development, integration, data analysis, and workflow to configure and develop SAP business solutions that meet operational, performance, and reporting requirements.Works collaboratively with the business and IT teams to leverage out-of-the-box SAP functionality, evaluate alternatives, close gaps and challenge the need for RICEFW components.Documents SAP design, functional, technical, and performance requirements.Leads multiple SAP ERP project tracks covering solution and program design, security, and quality aspects of the program.Applies SAP and industry best practices, standards and blueprints to accelerate delivery of corporate ERP program.Partners with corporate leadership and project management teams on all assignments with the ability to accurately estimate, track, and schedule tasks and deliverables.Provides insight and guidance for day to day operations covering issue prioritization, defect management, and break fixes to ensure high reliability and availability of SAP related systems.Serves as an advocate throughout the IT organization to promote the effective use of corporate ERP solution, data and technical architecture.Maintains, follows, and ensures compliance with all corporate standards, policies and procedures.Mentors and influences team members to fully develop SAP technical competencies that will help evolve the SAP center of excellence.Acts as a strong liaison across direct and indirect staff onsite, offsite and offshore to deliver complex business solutions as well as application management services (AMS).Drives the corporate Culture in the department and throughout the company to ensure unity of vision and fulfillment of corporate mission.Participates in special projects and performs additional duties as required.MUST-HAVES REQUIREMENTS: Minimum of 8 years of IT experience as a system analyst, architect, designer and/or developer required.5+ years’ recent full development lifecycle exp. of global SAP implementations on SAP ECC 6.0 latest packs (HANA)5+years’ of experience integrating legacy, SAP ERP and third party packaged applications required.Proven experience leading projects and influencing business, IT and consulting staff is required.Ability to cross train and mentor associates on SAP configurations, technologies and tools.MUST have clear, verbal communication skills and ability to communicate effectively.------------------------------Please click the Apply Now button below to send your resume.', 'Melville, NY', 'IT', '0', 'FT', '- Trung thực, tư duy tốt, có khả năng học hỏi công nghệ mới nhanh\\n- Tiếng anh giao tiếp tốt', '2024-06-30 00:00:00', 'CN', '4', '- Thu nhập: Thương lượng (từ 7-15 triệu) tuỳ theo năng lực và kinh nghiệm.\\n- Cơ hội thăng tiến tốt\\n- Tham gia BHXH, BHTN, BHYT theo đúng quy định nhà nước\\n- Được thưởng tháng lương thứ 13....\\n- Ngoài ra còn rất nhiều quyền lợi khác.', 'DN'),\n",
       "           ('Auditor Analyst', 'For More Info Please call 732-549-6800 Ext: 322Title: Sr. Analyst (Audit)Location: South Brunswick, NJ 08852.Duration: 03 Months\\xa0Job Description:\\xa0The Sr. Analyst Contingent Worker will fully support and execute a variety of audit and internal control/compliance tasks and initiatives/small projects for the Global Finance Operations (GFO) department. Tasks and responsibilities will include support for Sarbanes-Oxley (SOX) and other compliance audits, internal control monitoring of business process improvement initiatives and certain subscription operations compliance related duties. Successful execution will require coordinating with stakeholders across various departments subject to audits and internal controls review/monitoring as well as support for our external auditors.\\xa0This role will support ongoing monitoring of GFO compliance and assist in the resolution of internal control inquiries/disputes and enhancements as directed.\\xa0Job Responsibilities:\\xa0* Support and execute Sarbanes-Oxley (SOX) audit tasks as assigned; including sample selection, testing, documentation of findings and remediation follow through as directed.\\xa0* General audit support including document retrieval, review and research\\xa0* Support ongoing monitoring of internal controls and respond to related inquiries\\xa0* Manage and support certain subscription operations compliance monitoring tasks\\xa0* Engage in GFO business process improvement initiatives/projects as assigned\\xa0* Document and/or update policies/procedures as deemed appropriate for assigned responsibilities\\xa0* Compile, analyze, review and research Finance Operations data for issues resolution as well as to support business process improvement assignments.\\xa0Skills Required:\\xa0* Demonstrated knowledge and experience with basic auditing principles, standards and Sarbanes-Oxley (SOX) compliance\\xa0* Relevant background and understanding of finance operations\\xa0* Demonstrated ability to independently troubleshoot and resolve issues\\xa0* Some experience in project coordination/management a plus\\xa0* Ability to quickly understand, interpret and communicate business issues\\xa0* Excellent communication skills, written and verbal\\xa0* PeopleSoft Financials modules experience a plus\\xa0* Demonstrated strong data analysis skills\\xa0* Excellent proficiency with Microsoft office\\xa0* Minimum 5 years prior related business experience\\xa0* Ability to quickly learn and utilize a variety of systems\\xa0* Strong organization, time management and multi-tasking skills\\xa0* Minimum of bachelor’s degree in Accounting or Finance\\xa0Thanks & Regards\\xa0', 'South Brunswick, NJ', 'IT', '0', 'FT', '- Trung thực, tư duy tốt, có khả năng học hỏi công nghệ mới nhanh\\n- Tiếng anh giao tiếp tốt', '2024-06-30 00:00:00', 'CN', '4', '- Thu nhập: Thương lượng (từ 7-15 triệu) tuỳ theo năng lực và kinh nghiệm.\\n- Cơ hội thăng tiến tốt\\n- Tham gia BHXH, BHTN, BHYT theo đúng quy định nhà nước\\n- Được thưởng tháng lương thứ 13....\\n- Ngoài ra còn rất nhiều quyền lợi khác.', 'DN'),\n",
       "           ('Sr. Java Developer', \"Trigyn's direct financial client has an immediate opening for Sr. Java Developer in Montreal, Canada.Description:This role requires both strong technical ability in a variety of Java development environments and significant proficiency with Java 8 for web services (REST/SOAP exposed via WSDL). Additionally, experience with basic database interfacing and design concepts round out the front-to-back development requirements. The ideal consultant will demonstrate an eagerness to understand complex business problems and requirements, an aptitude for translating these problems into workable designs and solutions, and will possess a keen eye for detail.Skills Required: Exceptional written and verbal communication skills 5 to 8 years of experience with modern Java (7/8) web service development Experience with modern SDLC methodologies, including Agile processesTechnical skills: Experience with Spring, EJB, CXF Familiarity with IDEs (Eclipse, IntelliJ) Solid RDBMS and SQL knowledge Familiarity with Linux and Windows development environments A generalist with demonstrated abilities in specific areas and a strong ability to deliver reliably Self-motivated individual and creative thinker who will take ownership of tasks and projects, able to work with the global team, and manage time and tasks effectively and independently.Skills Desired: Experience with a scripting language; Perl preferred. Experience in the financial industry Familiarity with reporting concepts and design Exposure to Scala beneficial Education Level: Bachelor's Degree.NO THIRD PARTY CANDIDATES PERMITTED.PLEASE RESPOND ONLY IF YOU ARE CURRENTLY ELIGIBLE TO WORK IN CANADA.TRIGYN TECHNOLOGIES, INC. is an EQUAL OPPORTUNITY EMPLOYER and has been in business for 30 years. TRIGYN is an ISO 9001:2008, ISO 27001:2013 (ISMS) and CMMI Level 3 certified company. TRIGYN is an E-Verify* Employer.\", 'Montreal, QC', 'IT', '0', 'FT', '- Trung thực, tư duy tốt, có khả năng học hỏi công nghệ mới nhanh\\n- Tiếng anh giao tiếp tốt', '2024-06-30 00:00:00', 'CN', '4', '- Thu nhập: Thương lượng (từ 7-15 triệu) tuỳ theo năng lực và kinh nghiệm.\\n- Cơ hội thăng tiến tốt\\n- Tham gia BHXH, BHTN, BHYT theo đúng quy định nhà nước\\n- Được thưởng tháng lương thứ 13....\\n- Ngoài ra còn rất nhiều quyền lợi khác.', 'DN')],\n",
       "          dtype=[('jobtitle', 'O'), ('jobdescription', 'O'), ('joblocation_address', 'O'), ('job_field_code', 'O'), ('salary_code', 'O'), ('job_type_code', 'O'), ('yeu_cau_cong_viec', 'O'), ('deadline', 'O'), ('degree_code', 'O'), ('id_employer', 'O'), ('quyen_loi', 'O'), ('province_cong_viec', 'O')])"
      ]
     },
     "execution_count": 108,
     "metadata": {},
     "output_type": "execute_result"
    }
   ],
   "source": [
    "values = df1.iloc[10:21].to_records(index=False)  \n",
    "values"
   ]
  },
  {
   "cell_type": "markdown",
   "metadata": {},
   "source": [
    "#### Get data from mysql table and store to dataframe"
   ]
  },
  {
   "cell_type": "code",
   "execution_count": 11,
   "metadata": {},
   "outputs": [
    {
     "name": "stdout",
     "output_type": "stream",
     "text": [
      "                  vi_tri                                              mo_ta  \\\n",
      "0  Chuyên viên marketing  - Vận hành máy in 5 màu\\n- Thời gian làm việc:...   \n",
      "1     Nhân viên bán hàng                                             mota 1   \n",
      "\n",
      "  address_cong_viec  \n",
      "0            432 ds  \n",
      "1              None  \n"
     ]
    }
   ],
   "source": [
    "try:\n",
    "  # Connect to the MySQL database\n",
    "  connection = mysql.connector.connect(\n",
    "    host=\"localhost\",\n",
    "    user=\"root\",\n",
    "    password=\"\",\n",
    "    database=\"tuyendung\",\n",
    "  )\n",
    "\n",
    "  # Create a cursor object\n",
    "  cursor = connection.cursor()\n",
    "\n",
    "  # Define the SQL query to select data from your table\n",
    "  sql_query = \"SELECT `vi_tri`, `mo_ta`, `address_cong_viec` FROM `jobs`\" \n",
    "\n",
    "  # Execute the query\n",
    "  cursor.execute(sql_query)\n",
    "\n",
    "  # Fetch all results as a list of tuples\n",
    "  data = cursor.fetchall()\n",
    "\n",
    "  # # Create a DataFrame from the fetched data\n",
    "  dfDB = pd.DataFrame(data, columns=[col[0] for col in cursor.description], index=None)  # Extract column names\n",
    "except mysql.connector.Error as err:\n",
    "  print(f\"Error connecting to database: {err}\")\n",
    "finally:\n",
    "  if connection:\n",
    "    connection.close()\n",
    "    cursor.close()\n",
    "\n",
    "# Now you can work with the DataFrame 'dfDB'\n",
    "print(dfDB.head(2))  # Print the first few rows of the DataFrame\n"
   ]
  },
  {
   "cell_type": "code",
   "execution_count": 13,
   "metadata": {},
   "outputs": [
    {
     "data": {
      "text/html": [
       "<div>\n",
       "<style scoped>\n",
       "    .dataframe tbody tr th:only-of-type {\n",
       "        vertical-align: middle;\n",
       "    }\n",
       "\n",
       "    .dataframe tbody tr th {\n",
       "        vertical-align: top;\n",
       "    }\n",
       "\n",
       "    .dataframe thead th {\n",
       "        text-align: right;\n",
       "    }\n",
       "</style>\n",
       "<table border=\"1\" class=\"dataframe\">\n",
       "  <thead>\n",
       "    <tr style=\"text-align: right;\">\n",
       "      <th></th>\n",
       "      <th>jobTitle</th>\n",
       "      <th>jobdescription</th>\n",
       "      <th>joblocation_address</th>\n",
       "    </tr>\n",
       "  </thead>\n",
       "  <tbody>\n",
       "    <tr>\n",
       "      <th>0</th>\n",
       "      <td>Chuyên viên marketing</td>\n",
       "      <td>- Vận hành máy in 5 màu\\n- Thời gian làm việc:...</td>\n",
       "      <td>432 ds</td>\n",
       "    </tr>\n",
       "    <tr>\n",
       "      <th>1</th>\n",
       "      <td>Nhân viên bán hàng</td>\n",
       "      <td>mota 1</td>\n",
       "      <td>None</td>\n",
       "    </tr>\n",
       "    <tr>\n",
       "      <th>2</th>\n",
       "      <td>Giám đốc marketing</td>\n",
       "      <td>mota 1</td>\n",
       "      <td>None</td>\n",
       "    </tr>\n",
       "    <tr>\n",
       "      <th>3</th>\n",
       "      <td>Test deadline</td>\n",
       "      <td>mota 1</td>\n",
       "      <td>123 street da nang</td>\n",
       "    </tr>\n",
       "    <tr>\n",
       "      <th>4</th>\n",
       "      <td>nhan vien kinh doanh update</td>\n",
       "      <td>mota 1</td>\n",
       "      <td>432 quoc lo 9</td>\n",
       "    </tr>\n",
       "    <tr>\n",
       "      <th>...</th>\n",
       "      <td>...</td>\n",
       "      <td>...</td>\n",
       "      <td>...</td>\n",
       "    </tr>\n",
       "    <tr>\n",
       "      <th>124</th>\n",
       "      <td>Sr Web Developer - Test and Measurement</td>\n",
       "      <td>JOIN US AS A SR. WEB ANALYTICS DEVELOPER Simil...</td>\n",
       "      <td>Minneapolis, MN</td>\n",
       "    </tr>\n",
       "    <tr>\n",
       "      <th>125</th>\n",
       "      <td>MQ Middleware Support</td>\n",
       "      <td>Software Guidance &amp; Assistance, Inc., (SGA), i...</td>\n",
       "      <td>Research Triangle Park, NC</td>\n",
       "    </tr>\n",
       "    <tr>\n",
       "      <th>126</th>\n",
       "      <td>ENTERPRISE SYSTEMS ENGINEER</td>\n",
       "      <td>ENTERPRISE SYSTEMS ENGINEEROur client is seeki...</td>\n",
       "      <td>Seattle, WA</td>\n",
       "    </tr>\n",
       "    <tr>\n",
       "      <th>127</th>\n",
       "      <td>QA Automation Engineer</td>\n",
       "      <td>QA Automation Engineer Glendale, CA Contract O...</td>\n",
       "      <td>Glendale, CA</td>\n",
       "    </tr>\n",
       "    <tr>\n",
       "      <th>128</th>\n",
       "      <td>Field Services Analyst III</td>\n",
       "      <td>Overview:   The Technical Support Analyst III ...</td>\n",
       "      <td>Newport Beach, CA</td>\n",
       "    </tr>\n",
       "  </tbody>\n",
       "</table>\n",
       "<p>129 rows × 3 columns</p>\n",
       "</div>"
      ],
      "text/plain": [
       "                                    jobTitle  \\\n",
       "0                      Chuyên viên marketing   \n",
       "1                         Nhân viên bán hàng   \n",
       "2                         Giám đốc marketing   \n",
       "3                              Test deadline   \n",
       "4               nhan vien kinh doanh update    \n",
       "..                                       ...   \n",
       "124  Sr Web Developer - Test and Measurement   \n",
       "125                    MQ Middleware Support   \n",
       "126              ENTERPRISE SYSTEMS ENGINEER   \n",
       "127                   QA Automation Engineer   \n",
       "128               Field Services Analyst III   \n",
       "\n",
       "                                        jobdescription  \\\n",
       "0    - Vận hành máy in 5 màu\\n- Thời gian làm việc:...   \n",
       "1                                               mota 1   \n",
       "2                                               mota 1   \n",
       "3                                               mota 1   \n",
       "4                                               mota 1   \n",
       "..                                                 ...   \n",
       "124  JOIN US AS A SR. WEB ANALYTICS DEVELOPER Simil...   \n",
       "125  Software Guidance & Assistance, Inc., (SGA), i...   \n",
       "126  ENTERPRISE SYSTEMS ENGINEEROur client is seeki...   \n",
       "127  QA Automation Engineer Glendale, CA Contract O...   \n",
       "128  Overview:   The Technical Support Analyst III ...   \n",
       "\n",
       "            joblocation_address  \n",
       "0                        432 ds  \n",
       "1                          None  \n",
       "2                          None  \n",
       "3            123 street da nang  \n",
       "4                 432 quoc lo 9  \n",
       "..                          ...  \n",
       "124             Minneapolis, MN  \n",
       "125  Research Triangle Park, NC  \n",
       "126                 Seattle, WA  \n",
       "127                Glendale, CA  \n",
       "128           Newport Beach, CA  \n",
       "\n",
       "[129 rows x 3 columns]"
      ]
     },
     "execution_count": 13,
     "metadata": {},
     "output_type": "execute_result"
    }
   ],
   "source": [
    "dfDB.rename(columns={'vi_tri': 'jobTitle', 'mo_ta': 'jobdescription', 'address_cong_viec': 'joblocation_address'}, inplace=True)\n",
    "dfDB\n"
   ]
  },
  {
   "cell_type": "code",
   "execution_count": 14,
   "metadata": {},
   "outputs": [],
   "source": [
    "dfDB.to_csv('dataStore.csv', index=True, header=True)"
   ]
  },
  {
   "cell_type": "code",
   "execution_count": 15,
   "metadata": {},
   "outputs": [
    {
     "name": "stdout",
     "output_type": "stream",
     "text": [
      "                jobTitle                                     jobdescription  \\\n",
      "0  Chuyên viên marketing  - Vận hành máy in 5 màu\\n- Thời gian làm việc:...   \n",
      "1     Nhân viên bán hàng                                             mota 1   \n",
      "\n",
      "  joblocation_address  \n",
      "0              432 ds  \n",
      "1                None  \n"
     ]
    }
   ],
   "source": [
    "print(dfDB.head(2))\n"
   ]
  },
  {
   "cell_type": "markdown",
   "metadata": {},
   "source": [
    "#### Dùng dữ liệu từ table để train ai"
   ]
  }
 ],
 "metadata": {
  "kernelspec": {
   "display_name": "Python 3",
   "language": "python",
   "name": "python3"
  },
  "language_info": {
   "codemirror_mode": {
    "name": "ipython",
    "version": 3
   },
   "file_extension": ".py",
   "mimetype": "text/x-python",
   "name": "python",
   "nbconvert_exporter": "python",
   "pygments_lexer": "ipython3",
   "version": "3.12.4"
  }
 },
 "nbformat": 4,
 "nbformat_minor": 2
}
